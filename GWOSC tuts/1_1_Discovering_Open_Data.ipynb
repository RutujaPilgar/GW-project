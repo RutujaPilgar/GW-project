{
  "cells": [
    {
      "cell_type": "markdown",
      "metadata": {
        "id": "view-in-github",
        "colab_type": "text"
      },
      "source": [
        "<a href=\"https://colab.research.google.com/github/RutujaPilgar/GW-project/blob/main/GWOSC%20tuts/1_1_Discovering_Open_Data.ipynb\" target=\"_parent\"><img src=\"https://colab.research.google.com/assets/colab-badge.svg\" alt=\"Open In Colab\"/></a>"
      ]
    },
    {
      "cell_type": "markdown",
      "metadata": {
        "Collapsed": "false",
        "id": "R_adEak0Q8NT"
      },
      "source": [
        "<img style=\"float: left;padding: 1.3em\" src=\"https://raw.githubusercontent.com/gw-odw/odw-2023/main/Tutorials/logo.png\">\n",
        "\n",
        "#  Gravitational Wave Open Data Workshop #6\n",
        "\n",
        "\n",
        "#### Tutorial 1.1: Discovering open data from GW observatories\n",
        "\n",
        "This notebook describes how to discover what data are available from the [Gravitational-Wave Open Science Center (GWOSC)](https://www.gw-openscience.org).\n",
        "\n",
        "[Click this link to view this tutorial in Google Colaboratory](https://colab.research.google.com/github/gw-odw/odw-2023/blob/main/Tutorials/Day_1/Tuto_1.1_Discovering_Open_Data.ipynb)"
      ]
    },
    {
      "cell_type": "markdown",
      "metadata": {
        "Collapsed": "false",
        "id": "W6msjCJVQ8NV"
      },
      "source": [
        "## Software installation  (execute only if running on a cloud platform or haven't done the installation yet!)\n",
        "\n",
        "First, we need to install the software, which we do following the instruction in [Software Setup Instructions](https://github.com/gw-odw/odw-2021/blob/master/setup.md):"
      ]
    },
    {
      "cell_type": "code",
      "execution_count": null,
      "metadata": {
        "id": "ttYs3V-uaUgv"
      },
      "outputs": [],
      "source": [
        "# -- Uncomment following line if running in Google Colab\n",
        "! pip install -q 'gwosc==0.7.1'"
      ]
    },
    {
      "cell_type": "code",
      "execution_count": null,
      "metadata": {
        "id": "lFs2W0aiaUg1",
        "outputId": "f6c71bf3-026d-4901-805a-71e22da10b52",
        "colab": {
          "base_uri": "https://localhost:8080/"
        }
      },
      "outputs": [
        {
          "output_type": "stream",
          "name": "stdout",
          "text": [
            "0.7.1\n"
          ]
        }
      ],
      "source": [
        "#check the version of the package gwosc you are using\n",
        "import gwosc\n",
        "print(gwosc.__version__)"
      ]
    },
    {
      "cell_type": "markdown",
      "metadata": {
        "id": "9SnIwlCLaUg4"
      },
      "source": [
        "The version you get should be 0.7.1. If it's not, check that you have followed all the steps in [Software Setup Instructions](https://github.com/gw-odw/odw-2023/blob/main/setup.md)."
      ]
    },
    {
      "cell_type": "markdown",
      "metadata": {
        "Collapsed": "false",
        "id": "F3tmmQ-hQ8Nu"
      },
      "source": [
        "## Querying for event information\n",
        "\n",
        "The module `gwosc.datasets` provides tools for searching for datasets, including events, catalogs and full run strain data releases.\n",
        "\n",
        "\n",
        "For example, we can search for events in the [GWTC-1 catalog](https://www.gw-openscience.org/eventapi/html/GWTC-1-confident/), the catalog of all events from the O1 and O2 observing runs. A list of available catalogs can be seen in the [Event Portal](https://gw-openscience.org/eventapi)"
      ]
    },
    {
      "cell_type": "code",
      "execution_count": null,
      "metadata": {
        "id": "GDuLRzkaaUg6",
        "outputId": "1361ebf5-b301-4beb-9788-1caf878657df",
        "colab": {
          "base_uri": "https://localhost:8080/"
        }
      },
      "outputs": [
        {
          "output_type": "stream",
          "name": "stdout",
          "text": [
            "List of available catalogs\n",
            "['GWTC', 'GWTC-1-confident', 'GWTC-1-marginal', 'GWTC-2', 'GWTC-2.1-auxiliary', 'GWTC-2.1-confident', 'GWTC-2.1-marginal', 'GWTC-3-confident', 'GWTC-3-marginal', 'Initial_LIGO_Virgo', 'O1_O2-Preliminary', 'O3_Discovery_Papers', 'O3_IMBH_marginal']\n"
          ]
        }
      ],
      "source": [
        "from gwosc.datasets import find_datasets\n",
        "from gwosc import datasets\n",
        "\n",
        "#-- List all available catalogs\n",
        "print(\"List of available catalogs\")\n",
        "print(find_datasets(type=\"catalog\"))"
      ]
    },
    {
      "cell_type": "code",
      "execution_count": null,
      "metadata": {
        "id": "ReLWsUcBaUg7",
        "outputId": "955784ae-6140-43bc-ba5b-a996e404e377",
        "colab": {
          "base_uri": "https://localhost:8080/"
        }
      },
      "outputs": [
        {
          "output_type": "stream",
          "name": "stdout",
          "text": [
            "GWTC-1 events: ['GW150914-v3', 'GW151012-v3', 'GW151226-v2', 'GW170104-v2', 'GW170608-v3', 'GW170729-v1', 'GW170809-v1', 'GW170814-v3', 'GW170817-v3', 'GW170818-v1', 'GW170823-v1']\n",
            "\n"
          ]
        }
      ],
      "source": [
        "#-- Print all the GW events from the GWTC-1 catalog\n",
        "gwtc1 = datasets.find_datasets(type='events', catalog='GWTC-1-confident')\n",
        "print('GWTC-1 events:', gwtc1)\n",
        "print(\"\")"
      ]
    },
    {
      "cell_type": "markdown",
      "metadata": {
        "id": "cXaZNDsiaUg9"
      },
      "source": [
        "Note that the event name is of the type _GWyymmdd-vx_ where _x_ is the last available version for the data set provided by GWOSC."
      ]
    },
    {
      "cell_type": "code",
      "execution_count": null,
      "metadata": {
        "id": "j2f4wqhjaUg-",
        "outputId": "9558b7c8-9502-4403-f4b8-367cca56b184",
        "colab": {
          "base_uri": "https://localhost:8080/"
        }
      },
      "outputs": [
        {
          "output_type": "stream",
          "name": "stdout",
          "text": [
            "Large data sets: ['BKGW170608_16KHZ_R1', 'O1', 'O1_16KHZ', 'O2_16KHZ_R1', 'O2_4KHZ_R1', 'O3GK_16KHZ_R1', 'O3GK_4KHZ_R1', 'O3a_16KHZ_R1', 'O3a_4KHZ_R1', 'O3b_16KHZ_R1', 'O3b_4KHZ_R1', 'S5', 'S6']\n"
          ]
        }
      ],
      "source": [
        "#-- Print all the large strain data sets from LIGO/Virgo/KAGRA observing runs\n",
        "runs = find_datasets(type='run')\n",
        "print('Large data sets:', runs)"
      ]
    },
    {
      "cell_type": "markdown",
      "metadata": {
        "id": "FeAVGsMdaUhB"
      },
      "source": [
        "_Attention: Note that the most recent observation runs, e.g. O2, are labeled with names containing the name of the run (e.g. O2), the sampling rate (4 or 16 kHz) and the release version (e.g. R1). This means that for O2 you have two labels 'O2_4KHZ_R1' and 'O2_16KHZ_R1', depending which is the desired sampling rate_"
      ]
    },
    {
      "cell_type": "markdown",
      "metadata": {
        "Collapsed": "false",
        "id": "D9_tRXpMQ8N8"
      },
      "source": [
        "`datasets.find_datasets` also accepts a `segment` and `detector` keyword to narrow results based on GPS time and detector:"
      ]
    },
    {
      "cell_type": "code",
      "execution_count": null,
      "metadata": {
        "Collapsed": "false",
        "colab": {
          "base_uri": "https://localhost:8080/"
        },
        "id": "XZTniqwHQ8N-",
        "outputId": "e01b358b-68cb-41c5-c7ff-37ce74ea587c"
      },
      "outputs": [
        {
          "output_type": "stream",
          "name": "stdout",
          "text": [
            "['GW170104-v2', 'GW170608-v3', 'GW170729-v1', 'GW170809-v1', 'GW170814-v3', 'GW170817-v3', 'GW170818-v1', 'GW170823-v1']\n"
          ]
        }
      ],
      "source": [
        "#-- Detector and segments keywords limit search result\n",
        "print(datasets.find_datasets(type='events', catalog='GWTC-1-confident', detector=\"L1\", segment=(1164556817, 1187733618)))"
      ]
    },
    {
      "cell_type": "markdown",
      "metadata": {
        "Collapsed": "false",
        "id": "7pnAItOJQ8OC"
      },
      "source": [
        "Using `gwosc.datasets.event_gps`, we can query for the GPS time of a specific event (it works also without the version number):"
      ]
    },
    {
      "cell_type": "code",
      "execution_count": null,
      "metadata": {
        "Collapsed": "false",
        "colab": {
          "base_uri": "https://localhost:8080/"
        },
        "id": "tdr8c15_Q8OD",
        "outputId": "ed28f13c-4bb1-4caa-c745-dc122f679d5b"
      },
      "outputs": [
        {
          "output_type": "stream",
          "name": "stdout",
          "text": [
            "1240215503.0\n"
          ]
        }
      ],
      "source": [
        "from gwosc.datasets import event_gps\n",
        "gps = event_gps('GW190425')\n",
        "print(gps)"
      ]
    },
    {
      "cell_type": "markdown",
      "metadata": {
        "Collapsed": "false",
        "id": "hKvQhYAOQ8OG"
      },
      "source": [
        "<div class=\"alert alert-info\">All of these times are returned in the GPS time system, which counts the number of seconds that have elapsed since the start of the GPS epoch at midnight (00:00) on January 6th 1980. GWOSC provides a <a href=\"https://www.gw-openscience.org/gps/\">GPS time converter</a> you can use to translate into datetime, or you can use <a href=\"https://gwpy.github.io/docs/stable/time/\"><code>gwpy.time</code></a>.</div>"
      ]
    },
    {
      "cell_type": "code",
      "execution_count": null,
      "metadata": {
        "id": "TkJEHE12aUhG",
        "outputId": "dde91907-2f9b-4909-e765-4a57586e50ec",
        "colab": {
          "base_uri": "https://localhost:8080/"
        }
      },
      "outputs": [
        {
          "output_type": "stream",
          "name": "stdout",
          "text": [
            "GW190425\n"
          ]
        }
      ],
      "source": [
        "# You can do also the vice-versa\n",
        "from gwosc.datasets import event_at_gps\n",
        "print(datasets.event_at_gps(1240215503))"
      ]
    },
    {
      "cell_type": "markdown",
      "metadata": {
        "id": "ih-nPsGNaUhH"
      },
      "source": [
        "Note that the method `event_at_gps` looks for events found within 1 seconds of the given GPS time. If no events is found it will give an error."
      ]
    },
    {
      "cell_type": "markdown",
      "metadata": {
        "Collapsed": "false",
        "id": "RXVyJsDDQ8OH"
      },
      "source": [
        "We can query for the GPS time interval for an observing run:"
      ]
    },
    {
      "cell_type": "code",
      "execution_count": null,
      "metadata": {
        "Collapsed": "false",
        "colab": {
          "base_uri": "https://localhost:8080/"
        },
        "id": "QYsQSPNJQ8OK",
        "outputId": "b7413b7c-7a38-43b6-a4ae-476417c77ae1"
      },
      "outputs": [
        {
          "output_type": "stream",
          "name": "stdout",
          "text": [
            "(1126051217, 1137254417)\n"
          ]
        }
      ],
      "source": [
        "from gwosc.datasets import run_segment\n",
        "print(run_segment('O1'))"
      ]
    },
    {
      "cell_type": "code",
      "execution_count": null,
      "metadata": {
        "id": "C2qeRJwkaUhJ",
        "outputId": "b3951f92-2483-4beb-94ed-bfe771cd8cdc",
        "colab": {
          "base_uri": "https://localhost:8080/"
        }
      },
      "outputs": [
        {
          "output_type": "stream",
          "name": "stdout",
          "text": [
            "O3a_4KHZ_R1\n"
          ]
        }
      ],
      "source": [
        "# and vice-versa also in this case\n",
        "from gwosc.datasets import run_at_gps\n",
        "print(run_at_gps(1240215503))"
      ]
    },
    {
      "cell_type": "markdown",
      "metadata": {
        "id": "6YHE86UQaUhK"
      },
      "source": [
        "Now we can use what we have learned with `run_segment` and `find_datasets` to see only the confident events in O1:"
      ]
    },
    {
      "cell_type": "code",
      "execution_count": null,
      "metadata": {
        "id": "_XsfeNwYaUhK",
        "outputId": "a7ded1a6-65d4-46b9-f4cc-f0182acac8ad",
        "colab": {
          "base_uri": "https://localhost:8080/"
        }
      },
      "outputs": [
        {
          "output_type": "stream",
          "name": "stdout",
          "text": [
            "['GW150914-v3', 'GW151012-v3', 'GW151226-v2']\n"
          ]
        }
      ],
      "source": [
        "O1_events = datasets.find_datasets(type='events', catalog='GWTC-1-confident', segment=run_segment('O1'))\n",
        "print(O1_events)"
      ]
    },
    {
      "cell_type": "markdown",
      "metadata": {
        "Collapsed": "false",
        "id": "ACFu7w4_Q8OO"
      },
      "source": [
        "## Querying for data files\n",
        "\n",
        "The `gwosc.locate` module provides a function to find the URLs of data files associated with a given dataset.\n",
        "\n",
        "For event datasets, one can get the list of URLs using only the event name:"
      ]
    },
    {
      "cell_type": "code",
      "execution_count": null,
      "metadata": {
        "Collapsed": "false",
        "colab": {
          "base_uri": "https://localhost:8080/"
        },
        "id": "uMb1bsBNQ8OQ",
        "outputId": "b7fa03b1-3bae-4906-c9ea-01cd4a95f5f8"
      },
      "outputs": [
        {
          "output_type": "stream",
          "name": "stdout",
          "text": [
            "['https://gwosc.org/eventapi/json/GWTC-1-confident/GW150914/v3/H-H1_GWOSC_4KHZ_R1-1126259447-32.hdf5', 'https://gwosc.org/eventapi/json/GWTC-1-confident/GW150914/v3/H-H1_GWOSC_4KHZ_R1-1126257415-4096.hdf5', 'https://gwosc.org/eventapi/json/GWTC-1-confident/GW150914/v3/L-L1_GWOSC_4KHZ_R1-1126259447-32.hdf5', 'https://gwosc.org/eventapi/json/GWTC-1-confident/GW150914/v3/L-L1_GWOSC_4KHZ_R1-1126257415-4096.hdf5']\n"
          ]
        }
      ],
      "source": [
        "from gwosc.locate import get_event_urls\n",
        "urls = get_event_urls('GW150914')\n",
        "print(urls)"
      ]
    },
    {
      "cell_type": "markdown",
      "metadata": {
        "Collapsed": "false",
        "id": "19XV79-XQ8OV"
      },
      "source": [
        "By default, this function returns all of the files associated with a given event, which isn't particularly helpful. However, we can filter on any of these by using keyword arguments, for example to get the URL for the 32-second file for the LIGO-Livingston detector:"
      ]
    },
    {
      "cell_type": "code",
      "execution_count": null,
      "metadata": {
        "Collapsed": "false",
        "colab": {
          "base_uri": "https://localhost:8080/"
        },
        "id": "H7MfuRbPQ8OW",
        "outputId": "efead096-d628-4f0f-b42a-7356c60f51c9"
      },
      "outputs": [
        {
          "output_type": "stream",
          "name": "stdout",
          "text": [
            "['https://gwosc.org/eventapi/json/GWTC-1-confident/GW150914/v3/L-L1_GWOSC_4KHZ_R1-1126259447-32.hdf5']\n"
          ]
        }
      ],
      "source": [
        "urls = get_event_urls('GW150914', duration=32, detector='L1')\n",
        "print(urls)"
      ]
    },
    {
      "cell_type": "markdown",
      "metadata": {
        "id": "gnPgaagCaUhM"
      },
      "source": [
        "##  Query filtered by merger parameters\n",
        "The `query_events` module of `gwosc.datasets` allows to get a list of events filtered by some parameters, similar to what is done by the `Query` function of the [event portal](https://www.gw-openscience.org/eventapi/html/query/). A list of available parameters can be found [here](https://gwosc.readthedocs.io/en/stable/reference/gwosc.datasets.query_events.html) or using `query_events?`.\n",
        "\n",
        "Let's see how to use this module to find which events have been detected with a network signal to noise ratio (SNR) between 25 and 30:"
      ]
    },
    {
      "cell_type": "code",
      "execution_count": null,
      "metadata": {
        "id": "dGvWrae9aUhN",
        "outputId": "f0053e5e-18ea-4d24-87e2-6e2cb629f91e",
        "colab": {
          "base_uri": "https://localhost:8080/"
        }
      },
      "outputs": [
        {
          "output_type": "stream",
          "name": "stdout",
          "text": [
            "['GW200129_065458-v1', 'GW190814_211039-v3', 'GW190814-v1', 'GW190521_074359-v2', 'GW150914-v3']\n"
          ]
        }
      ],
      "source": [
        "from gwosc.datasets import query_events\n",
        "selection = query_events(select=[\"25 <= network-matched-filter-snr <= 30\"])\n",
        "#this is equivalent to\n",
        "#query_events(select=[\"network-matched-filter-snr <= 30\", \"network-matched-filter-snr>= 25\"])\n",
        "print(selection)"
      ]
    },
    {
      "cell_type": "markdown",
      "metadata": {
        "id": "F7aT4GHkaUhN"
      },
      "source": [
        "Note that this module will give the list of **all available versions** for all the events that have the required parameters. For example, in this query the event GW190814 is listed twice because 2 versions of that event satisfy the request of SNR between 25 and 30."
      ]
    },
    {
      "cell_type": "markdown",
      "metadata": {
        "Collapsed": "false",
        "id": "r_YLBpR0Q8Oe"
      },
      "source": [
        "# Exercises\n",
        "\n",
        "Now that you've seen examples of how to query for dataset information using the `gwosc` package, please try and complete the following exercices using that interface:\n",
        "\n",
        "- How many months did O2 last? (Hint: check the output of _find_datasets(type='run')_ to find the correct label to use)\n",
        "- How many GWTC-3-confident events were detected during O3b?\n",
        "- How many events have been detected with a network signal to noise ratio (SNR) >= 30?"
      ]
    },
    {
      "cell_type": "code",
      "execution_count": null,
      "metadata": {
        "id": "2XEGOtsmaUhN",
        "colab": {
          "base_uri": "https://localhost:8080/"
        },
        "outputId": "3ea45227-eb11-4efc-fae6-276b39dc17f2"
      },
      "outputs": [
        {
          "output_type": "stream",
          "name": "stdout",
          "text": [
            "1164556817 1187733618\n",
            "no. of months 8.941667052469136\n"
          ]
        }
      ],
      "source": [
        "#How many months did O2 last?\n",
        "name = 'O2_16KHZ_R1'\n",
        "start,stop = run_segment(name)\n",
        "print(start,stop)\n",
        "time = stop - start\n",
        "months = time / (3600*24*30)\n",
        "print('no. of months',months)"
      ]
    },
    {
      "cell_type": "code",
      "source": [
        "#How many GWTC-3-confident events were detected during O3b?\n",
        "from gwosc.datasets import run_segment\n",
        "O1_events = datasets.find_datasets(type='events', catalog='GWTC-3-confident', segment=run_segment('O3b_16KHZ_R1'))\n",
        "print(len(O1_events))"
      ],
      "metadata": {
        "colab": {
          "base_uri": "https://localhost:8080/"
        },
        "id": "U8xMN7oq0f-A",
        "outputId": "fb945691-d461-463d-8a78-f337e7a66712"
      },
      "execution_count": null,
      "outputs": [
        {
          "output_type": "stream",
          "name": "stdout",
          "text": [
            "35\n"
          ]
        }
      ]
    },
    {
      "cell_type": "code",
      "source": [
        "#How many events have been detected with a network signal to noise ratio (SNR) >= 30?\n",
        "selection = query_events(select=[\"network-matched-filter-snr >= 30\"])\n",
        "print(len(selection))"
      ],
      "metadata": {
        "colab": {
          "base_uri": "https://localhost:8080/"
        },
        "id": "lLo9FgvE2BL_",
        "outputId": "4c8e3d29-bda0-4608-bcdb-de2d3fadcb01"
      },
      "execution_count": null,
      "outputs": [
        {
          "output_type": "stream",
          "name": "stdout",
          "text": [
            "1\n"
          ]
        }
      ]
    },
    {
      "cell_type": "code",
      "source": [],
      "metadata": {
        "id": "3pXtXRV_2puA"
      },
      "execution_count": null,
      "outputs": []
    }
  ],
  "metadata": {
    "colab": {
      "provenance": [],
      "include_colab_link": true
    },
    "kernelspec": {
      "display_name": "Python 3 (ipykernel)",
      "language": "python",
      "name": "python3"
    },
    "language_info": {
      "codemirror_mode": {
        "name": "ipython",
        "version": 3
      },
      "file_extension": ".py",
      "mimetype": "text/x-python",
      "name": "python",
      "nbconvert_exporter": "python",
      "pygments_lexer": "ipython3",
      "version": "3.9.16"
    }
  },
  "nbformat": 4,
  "nbformat_minor": 0
}